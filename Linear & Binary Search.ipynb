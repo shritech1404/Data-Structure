{
 "cells": [
  {
   "cell_type": "code",
   "execution_count": null,
   "metadata": {
    "application/vnd.databricks.v1+cell": {
     "cellMetadata": {
      "byteLimit": 2048000,
      "rowLimit": 10000
     },
     "inputWidgets": {},
     "nuid": "3bab7621-2b17-4531-b515-214e8a4b73dd",
     "showTitle": true,
     "title": "Linear Search"
    }
   },
   "outputs": [
    {
     "data": {
      "text/plain": [
       "Enter the key:  4"
      ]
     },
     "metadata": {},
     "output_type": "display_data"
    },
    {
     "name": "stdout",
     "output_type": "stream",
     "text": [
      "Key fount at location 4\n"
     ]
    }
   ],
   "source": [
    "def linearSearch(lst, key):\n",
    "  for i in range(len(lst)):\n",
    "    if lst[i]==key:\n",
    "      print(f'Key fount at location {i}')\n",
    "      break\n",
    "  else:\n",
    "    print('Key is not found')\n",
    "\n",
    "lst = [12,24,35,65,4,1,3,4] \n",
    "key = int(input('Enter the key: '))\n",
    "linearSearch(lst, key)"
   ]
  },
  {
   "cell_type": "code",
   "execution_count": null,
   "metadata": {
    "application/vnd.databricks.v1+cell": {
     "cellMetadata": {
      "byteLimit": 2048000,
      "rowLimit": 10000
     },
     "inputWidgets": {},
     "nuid": "cf0b6240-0839-4bb3-862f-3db161ca88de",
     "showTitle": false,
     "title": ""
    }
   },
   "outputs": [
    {
     "data": {
      "text/plain": [
       "Enter the key:  100"
      ]
     },
     "metadata": {},
     "output_type": "display_data"
    },
    {
     "name": "stdout",
     "output_type": "stream",
     "text": [
      "Key is not found\n"
     ]
    }
   ],
   "source": [
    "def linearSearch(lst, key):\n",
    "  lst1 = []\n",
    "  flag = False\n",
    "  for i in range(len(lst)):\n",
    "    if lst[i]==key:\n",
    "      flag = True\n",
    "      lst1.append(i)\n",
    "  if flag==True:\n",
    "    print('Key is found at following index')\n",
    "    for i in lst1:\n",
    "      print(i)\n",
    "  else:\n",
    "    print('Key is not found')\n",
    "\n",
    "lst = [12,24,35,65,4,1,3,4] \n",
    "key = int(input('Enter the key: '))\n",
    "linearSearch(lst, key)"
   ]
  },
  {
   "cell_type": "code",
   "execution_count": null,
   "metadata": {
    "application/vnd.databricks.v1+cell": {
     "cellMetadata": {
      "byteLimit": 2048000,
      "rowLimit": 10000
     },
     "inputWidgets": {},
     "nuid": "ba9938c6-cef8-4524-a8e4-03877b628892",
     "showTitle": true,
     "title": "Binary Search"
    }
   },
   "outputs": [
    {
     "data": {
      "text/plain": [
       "Enter the key:  345"
      ]
     },
     "metadata": {},
     "output_type": "display_data"
    },
    {
     "name": "stdout",
     "output_type": "stream",
     "text": [
      "[3, 4, 20, 23, 43, 56, 687]\n",
      "Key is not found\n"
     ]
    }
   ],
   "source": [
    "def binarySearch(lst, key):\n",
    "  lst.sort()\n",
    "  print(lst)\n",
    "  start = 0\n",
    "  end = len(lst)-1\n",
    "  Found = False\n",
    "  while start<=end and Found==False:\n",
    "    mid = (start+end)//2\n",
    "    if key==lst[mid]:\n",
    "      Found = True\n",
    "      break\n",
    "    elif key>lst[mid]:\n",
    "      start = mid+1\n",
    "    else:\n",
    "      end = mid-1\n",
    "  if Found == True:\n",
    "    print('Key is found')\n",
    "  else:\n",
    "    print('Key is not found')\n",
    "\n",
    "lst = [3,43,56,23,687,4,20]\n",
    "key = int(input('Enter the key: '))\n",
    "binarySearch(lst, key)"
   ]
  },
  {
   "cell_type": "code",
   "execution_count": null,
   "metadata": {
    "application/vnd.databricks.v1+cell": {
     "cellMetadata": {},
     "inputWidgets": {},
     "nuid": "d1a14463-438c-4039-9462-f865a53cbb8f",
     "showTitle": false,
     "title": ""
    }
   },
   "outputs": [],
   "source": []
  }
 ],
 "metadata": {
  "application/vnd.databricks.v1+notebook": {
   "dashboards": [],
   "language": "python",
   "notebookMetadata": {
    "pythonIndentUnit": 2
   },
   "notebookName": "Linear & Binary Search",
   "widgets": {}
  },
  "language_info": {
   "name": "python"
  }
 },
 "nbformat": 4,
 "nbformat_minor": 0
}
