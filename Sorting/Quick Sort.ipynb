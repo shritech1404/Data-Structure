{
 "cells": [
  {
   "cell_type": "code",
   "execution_count": 0,
   "metadata": {
    "application/vnd.databricks.v1+cell": {
     "cellMetadata": {
      "byteLimit": 2048000,
      "rowLimit": 10000
     },
     "inputWidgets": {},
     "nuid": "77df6b5e-5237-41fa-95a8-e5548d900347",
     "showTitle": false,
     "title": ""
    }
   },
   "outputs": [
    {
     "output_type": "stream",
     "name": "stdout",
     "output_type": "stream",
     "text": [
      "[5, 6, 23, 33, 54, 56, 87]\n"
     ]
    }
   ],
   "source": [
    "def pivot_place(lst, first, last):\n",
    "  pivot = lst[first]\n",
    "  left = first+1\n",
    "  right = last\n",
    "  while True:\n",
    "    while left <= right and lst[left] <= pivot:\n",
    "      left += 1\n",
    "    while left <= right and lst[right] >= pivot:\n",
    "      right -= 1\n",
    "    if left > right:\n",
    "      break\n",
    "    else:\n",
    "      lst[left], lst[right] = lst[right], lst[left]\n",
    "  lst[first], lst[right] = lst[right], lst[first]\n",
    "  return right\n",
    "\n",
    "def quickSort(lst, first, last):\n",
    "  if first < last:\n",
    "    pivot = pivot_place(lst, first, last)\n",
    "    quickSort(lst, first, pivot-1)\n",
    "    quickSort(lst, pivot+1, last)\n",
    "\n",
    "lst = [23,6,33,87,5,56,54]\n",
    "first = 0\n",
    "last = len(lst)-1\n",
    "quickSort(lst, first, last)\n",
    "print(lst)"
   ]
  },
  {
   "cell_type": "code",
   "execution_count": 0,
   "metadata": {
    "application/vnd.databricks.v1+cell": {
     "cellMetadata": {},
     "inputWidgets": {},
     "nuid": "a701e2e0-2a7a-4b6a-98b3-674f07fc90aa",
     "showTitle": false,
     "title": ""
    }
   },
   "outputs": [],
   "source": []
  }
 ],
 "metadata": {
  "application/vnd.databricks.v1+notebook": {
   "dashboards": [],
   "language": "python",
   "notebookMetadata": {
    "pythonIndentUnit": 2
   },
   "notebookName": "Quick Sort",
   "widgets": {}
  }
 },
 "nbformat": 4,
 "nbformat_minor": 0
}
