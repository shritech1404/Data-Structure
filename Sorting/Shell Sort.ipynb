{
 "cells": [
  {
   "cell_type": "code",
   "execution_count": 0,
   "metadata": {
    "application/vnd.databricks.v1+cell": {
     "cellMetadata": {
      "byteLimit": 2048000,
      "rowLimit": 10000
     },
     "inputWidgets": {},
     "nuid": "301f5ab3-6806-4a3e-8d4c-31645249e561",
     "showTitle": false,
     "title": ""
    }
   },
   "outputs": [
    {
     "output_type": "stream",
     "name": "stdout",
     "output_type": "stream",
     "text": [
      "[17, 20, 26, 31, 34, 44, 55, 77, 93]\n"
     ]
    }
   ],
   "source": [
    "def shellSort(lst):\n",
    "  gap = len(lst)//2\n",
    "  while gap>0:\n",
    "    for i in range(gap, len(lst)):\n",
    "      current_element = lst[i]\n",
    "      pos = i\n",
    "      while pos>=gap and lst[pos-gap]>current_element:\n",
    "        lst[pos] = lst[pos-gap]\n",
    "        pos = pos-gap\n",
    "      lst[pos] = current_element\n",
    "    gap = gap//2\n",
    "\n",
    "lst = [34,26,93,17,77,31,44,55,20]\n",
    "shellSort(lst)\n",
    "print(lst)"
   ]
  },
  {
   "cell_type": "code",
   "execution_count": 0,
   "metadata": {
    "application/vnd.databricks.v1+cell": {
     "cellMetadata": {},
     "inputWidgets": {},
     "nuid": "ddbc6863-aae4-43e9-8ac1-965007b85410",
     "showTitle": false,
     "title": ""
    }
   },
   "outputs": [],
   "source": []
  }
 ],
 "metadata": {
  "application/vnd.databricks.v1+notebook": {
   "dashboards": [],
   "language": "python",
   "notebookMetadata": {
    "mostRecentlyExecutedCommandWithImplicitDF": {
     "commandId": 2022873219865371,
     "dataframes": [
      "_sqldf"
     ]
    },
    "pythonIndentUnit": 2
   },
   "notebookName": "Shell Sort",
   "widgets": {}
  }
 },
 "nbformat": 4,
 "nbformat_minor": 0
}
