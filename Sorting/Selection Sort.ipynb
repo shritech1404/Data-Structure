{
 "cells": [
  {
   "cell_type": "markdown",
   "metadata": {
    "application/vnd.databricks.v1+cell": {
     "cellMetadata": {},
     "inputWidgets": {},
     "nuid": "c68adaf8-7d78-4f52-b485-284a158a2bc7",
     "showTitle": false,
     "title": ""
    }
   },
   "source": [
    "### Sort using min() and max()"
   ]
  },
  {
   "cell_type": "code",
   "execution_count": 0,
   "metadata": {
    "application/vnd.databricks.v1+cell": {
     "cellMetadata": {
      "byteLimit": 2048000,
      "rowLimit": 10000
     },
     "inputWidgets": {},
     "nuid": "117fdaa6-4d6a-4c26-a86f-74126a56e0de",
     "showTitle": true,
     "title": "Ascending"
    }
   },
   "outputs": [
    {
     "output_type": "stream",
     "name": "stdout",
     "output_type": "stream",
     "text": [
      "[0, 65, 43, 2, 6, 3, 23, 56, 76]\n"
     ]
    }
   ],
   "source": [
    "## selection sort using min() ==> sort list in acending\n",
    "\n",
    "lst = [3,65,43,2,6,0,23,56,76]\n",
    "## find min value\n",
    "min_val = min(lst)\n",
    "## get the index of min value\n",
    "min_idx = lst.index(min_val)\n",
    "## swap min value with 0th index\n",
    "lst[0], lst[min_idx] = lst[min_idx], lst[0]\n",
    "print(lst)"
   ]
  },
  {
   "cell_type": "code",
   "execution_count": 0,
   "metadata": {
    "application/vnd.databricks.v1+cell": {
     "cellMetadata": {
      "byteLimit": 2048000,
      "rowLimit": 10000
     },
     "inputWidgets": {},
     "nuid": "3b200ac3-f166-4379-8c67-a38cc20cf8d5",
     "showTitle": false,
     "title": ""
    }
   },
   "outputs": [
    {
     "output_type": "stream",
     "name": "stdout",
     "output_type": "stream",
     "text": [
      "Step - 0\n[3, 65, 43, 2, 6, 0, 23, 56, 76]\nMinimum value is 0\nSwap 0 and 3\n[0, 65, 43, 2, 6, 3, 23, 56, 76]\n=======================================================\nStep - 1\n[0, 65, 43, 2, 6, 3, 23, 56, 76]\nMinimum value is 2\nSwap 2 and 65\n[0, 2, 43, 65, 6, 3, 23, 56, 76]\n=======================================================\nStep - 2\n[0, 2, 43, 65, 6, 3, 23, 56, 76]\nMinimum value is 3\nSwap 3 and 43\n[0, 2, 3, 65, 6, 43, 23, 56, 76]\n=======================================================\nStep - 3\n[0, 2, 3, 65, 6, 43, 23, 56, 76]\nMinimum value is 6\nSwap 6 and 65\n[0, 2, 3, 6, 65, 43, 23, 56, 76]\n=======================================================\nStep - 4\n[0, 2, 3, 6, 65, 43, 23, 56, 76]\nMinimum value is 23\nSwap 23 and 65\n[0, 2, 3, 6, 23, 43, 65, 56, 76]\n=======================================================\nStep - 5\n[0, 2, 3, 6, 23, 43, 65, 56, 76]\nMinimum value is 43\nSwap 43 and 43\n[0, 2, 3, 6, 23, 43, 65, 56, 76]\n=======================================================\nStep - 6\n[0, 2, 3, 6, 23, 43, 65, 56, 76]\nMinimum value is 56\nSwap 56 and 65\n[0, 2, 3, 6, 23, 43, 56, 65, 76]\n=======================================================\nStep - 7\n[0, 2, 3, 6, 23, 43, 56, 65, 76]\nMinimum value is 65\nSwap 65 and 65\n[0, 2, 3, 6, 23, 43, 56, 65, 76]\n=======================================================\nStep - 8\n[0, 2, 3, 6, 23, 43, 56, 65, 76]\nMinimum value is 76\nSwap 76 and 76\n[0, 2, 3, 6, 23, 43, 56, 65, 76]\n=======================================================\nFinal sorted list is: \n[0, 2, 3, 6, 23, 43, 56, 65, 76]\n"
     ]
    }
   ],
   "source": [
    "lst = [3,65,43,2,6,0,23,56,76]\n",
    "for i in range(len(lst)):\n",
    "  print(f'Step - {i}')\n",
    "  print(lst)\n",
    "  min_val = min(lst[i:])\n",
    "  min_idx = lst.index(min_val)\n",
    "  print(f'Minimum value is {min_val}')\n",
    "  print(f'Swap {min_val} and {lst[i:][0]}')\n",
    "  lst[i], lst[min_idx] = lst[min_idx], lst[i]\n",
    "  print(lst)\n",
    "  print('=======================================================')\n",
    "print('Final sorted list is: ')\n",
    "print(lst)"
   ]
  },
  {
   "cell_type": "code",
   "execution_count": 0,
   "metadata": {
    "application/vnd.databricks.v1+cell": {
     "cellMetadata": {
      "byteLimit": 2048000,
      "rowLimit": 10000
     },
     "inputWidgets": {},
     "nuid": "936b4b03-f322-44d1-9f99-096e31139b02",
     "showTitle": true,
     "title": "Descending"
    }
   },
   "outputs": [
    {
     "output_type": "stream",
     "name": "stdout",
     "output_type": "stream",
     "text": [
      "Step - 0\n[3, 65, 43, 2, 6, 0, 23, 56, 76]\nMaximum value is 76\nSwap 76 and 3\n[76, 65, 43, 2, 6, 0, 23, 56, 3]\n=======================================================\nStep - 1\n[76, 65, 43, 2, 6, 0, 23, 56, 3]\nMaximum value is 65\nSwap 65 and 65\n[76, 65, 43, 2, 6, 0, 23, 56, 3]\n=======================================================\nStep - 2\n[76, 65, 43, 2, 6, 0, 23, 56, 3]\nMaximum value is 56\nSwap 56 and 43\n[76, 65, 56, 2, 6, 0, 23, 43, 3]\n=======================================================\nStep - 3\n[76, 65, 56, 2, 6, 0, 23, 43, 3]\nMaximum value is 43\nSwap 43 and 2\n[76, 65, 56, 43, 6, 0, 23, 2, 3]\n=======================================================\nStep - 4\n[76, 65, 56, 43, 6, 0, 23, 2, 3]\nMaximum value is 23\nSwap 23 and 6\n[76, 65, 56, 43, 23, 0, 6, 2, 3]\n=======================================================\nStep - 5\n[76, 65, 56, 43, 23, 0, 6, 2, 3]\nMaximum value is 6\nSwap 6 and 0\n[76, 65, 56, 43, 23, 6, 0, 2, 3]\n=======================================================\nStep - 6\n[76, 65, 56, 43, 23, 6, 0, 2, 3]\nMaximum value is 3\nSwap 3 and 0\n[76, 65, 56, 43, 23, 6, 3, 2, 0]\n=======================================================\nStep - 7\n[76, 65, 56, 43, 23, 6, 3, 2, 0]\nMaximum value is 2\nSwap 2 and 2\n[76, 65, 56, 43, 23, 6, 3, 2, 0]\n=======================================================\nStep - 8\n[76, 65, 56, 43, 23, 6, 3, 2, 0]\nMaximum value is 0\nSwap 0 and 0\n[76, 65, 56, 43, 23, 6, 3, 2, 0]\n=======================================================\nFinal sorted list is: \n[76, 65, 56, 43, 23, 6, 3, 2, 0]\n"
     ]
    }
   ],
   "source": [
    "lst = [3,65,43,2,6,0,23,56,76]\n",
    "\n",
    "for i in range(len(lst)):\n",
    "  print(f'Step - {i}')\n",
    "  print(lst)\n",
    "  max_val = max(lst[i:])\n",
    "  max_idx = lst.index(max_val)\n",
    "  print(f'Maximum value is {max_val}')\n",
    "  print(f'Swap {max_val} and {lst[i:][0]}')\n",
    "  lst[i], lst[max_idx] = lst[max_idx], lst[i]\n",
    "  print(lst)\n",
    "  print('=======================================================')\n",
    "print('Final sorted list is: ')\n",
    "print(lst)"
   ]
  },
  {
   "cell_type": "markdown",
   "metadata": {
    "application/vnd.databricks.v1+cell": {
     "cellMetadata": {},
     "inputWidgets": {},
     "nuid": "acadc47a-4588-4d1d-815b-c5f4138c0fc1",
     "showTitle": false,
     "title": ""
    }
   },
   "source": [
    "### Sort without min() and max()"
   ]
  },
  {
   "cell_type": "code",
   "execution_count": 0,
   "metadata": {
    "application/vnd.databricks.v1+cell": {
     "cellMetadata": {
      "byteLimit": 2048000,
      "rowLimit": 10000
     },
     "inputWidgets": {},
     "nuid": "c9e4436c-6cb4-4d65-a4aa-2413a57ae01a",
     "showTitle": true,
     "title": "Ascending"
    }
   },
   "outputs": [
    {
     "output_type": "stream",
     "name": "stdout",
     "output_type": "stream",
     "text": [
      "Step 0\n[3, 65, 43, 2, 6, 0, 23, 56, 76]\nConsider index 0 value is minimum that is: 3 and compare this with remaining all values in list that is [3, 65, 43, 2, 6, 0, 23, 56, 76]\nMinimum value is 3 campare with 65 and 65 is greater than 3 so we are not doing anything\nMinimum value is 3 campare with 43 and 43 is greater than 3 so we are not doing anything\nMinimum value is 3 campare with 2 and 2 is less than 3 so we are now considering minimum value is 2\nMinimum value is 2 campare with 2 and 2 is greater than 2 so we are not doing anything\nMinimum value is 2 campare with 6 and 6 is greater than 2 so we are not doing anything\nMinimum value is 2 campare with 0 and 0 is less than 2 so we are now considering minimum value is 0\nMinimum value is 0 campare with 0 and 0 is greater than 0 so we are not doing anything\nMinimum value is 0 campare with 23 and 23 is greater than 0 so we are not doing anything\nMinimum value is 0 campare with 56 and 56 is greater than 0 so we are not doing anything\nMinimum value is 0 campare with 76 and 76 is greater than 0 so we are not doing anything\nwe have check all string and finally we got correct mimimun value is 0 which we are going to swap with 3\nAfter swapping we got list like: [0, 65, 43, 2, 6, 3, 23, 56, 76]\n=========================================================================================================================================\nStep 1\n[0, 65, 43, 2, 6, 3, 23, 56, 76]\nConsider index 1 value is minimum that is: 65 and compare this with remaining all values in list that is [65, 43, 2, 6, 3, 23, 56, 76]\nMinimum value is 65 campare with 43 and 43 is less than 65 so we are now considering minimum value is 43\nMinimum value is 43 campare with 43 and 43 is greater than 43 so we are not doing anything\nMinimum value is 43 campare with 2 and 2 is less than 43 so we are now considering minimum value is 2\nMinimum value is 2 campare with 2 and 2 is greater than 2 so we are not doing anything\nMinimum value is 2 campare with 6 and 6 is greater than 2 so we are not doing anything\nMinimum value is 2 campare with 3 and 3 is greater than 2 so we are not doing anything\nMinimum value is 2 campare with 23 and 23 is greater than 2 so we are not doing anything\nMinimum value is 2 campare with 56 and 56 is greater than 2 so we are not doing anything\nMinimum value is 2 campare with 76 and 76 is greater than 2 so we are not doing anything\nwe have check all string and finally we got correct mimimun value is 2 which we are going to swap with 65\nAfter swapping we got list like: [0, 2, 43, 65, 6, 3, 23, 56, 76]\n=========================================================================================================================================\nStep 2\n[0, 2, 43, 65, 6, 3, 23, 56, 76]\nConsider index 2 value is minimum that is: 43 and compare this with remaining all values in list that is [43, 65, 6, 3, 23, 56, 76]\nMinimum value is 43 campare with 65 and 65 is greater than 43 so we are not doing anything\nMinimum value is 43 campare with 6 and 6 is less than 43 so we are now considering minimum value is 6\nMinimum value is 6 campare with 6 and 6 is greater than 6 so we are not doing anything\nMinimum value is 6 campare with 3 and 3 is less than 6 so we are now considering minimum value is 3\nMinimum value is 3 campare with 3 and 3 is greater than 3 so we are not doing anything\nMinimum value is 3 campare with 23 and 23 is greater than 3 so we are not doing anything\nMinimum value is 3 campare with 56 and 56 is greater than 3 so we are not doing anything\nMinimum value is 3 campare with 76 and 76 is greater than 3 so we are not doing anything\nwe have check all string and finally we got correct mimimun value is 3 which we are going to swap with 43\nAfter swapping we got list like: [0, 2, 3, 65, 6, 43, 23, 56, 76]\n=========================================================================================================================================\nStep 3\n[0, 2, 3, 65, 6, 43, 23, 56, 76]\nConsider index 3 value is minimum that is: 65 and compare this with remaining all values in list that is [65, 6, 43, 23, 56, 76]\nMinimum value is 65 campare with 6 and 6 is less than 65 so we are now considering minimum value is 6\nMinimum value is 6 campare with 6 and 6 is greater than 6 so we are not doing anything\nMinimum value is 6 campare with 43 and 43 is greater than 6 so we are not doing anything\nMinimum value is 6 campare with 23 and 23 is greater than 6 so we are not doing anything\nMinimum value is 6 campare with 56 and 56 is greater than 6 so we are not doing anything\nMinimum value is 6 campare with 76 and 76 is greater than 6 so we are not doing anything\nwe have check all string and finally we got correct mimimun value is 6 which we are going to swap with 65\nAfter swapping we got list like: [0, 2, 3, 6, 65, 43, 23, 56, 76]\n=========================================================================================================================================\nStep 4\n[0, 2, 3, 6, 65, 43, 23, 56, 76]\nConsider index 4 value is minimum that is: 65 and compare this with remaining all values in list that is [65, 43, 23, 56, 76]\nMinimum value is 65 campare with 43 and 43 is less than 65 so we are now considering minimum value is 43\nMinimum value is 43 campare with 43 and 43 is greater than 43 so we are not doing anything\nMinimum value is 43 campare with 23 and 23 is less than 43 so we are now considering minimum value is 23\nMinimum value is 23 campare with 23 and 23 is greater than 23 so we are not doing anything\nMinimum value is 23 campare with 56 and 56 is greater than 23 so we are not doing anything\nMinimum value is 23 campare with 76 and 76 is greater than 23 so we are not doing anything\nwe have check all string and finally we got correct mimimun value is 23 which we are going to swap with 65\nAfter swapping we got list like: [0, 2, 3, 6, 23, 43, 65, 56, 76]\n=========================================================================================================================================\nStep 5\n[0, 2, 3, 6, 23, 43, 65, 56, 76]\nConsider index 5 value is minimum that is: 43 and compare this with remaining all values in list that is [43, 65, 56, 76]\nMinimum value is 43 campare with 65 and 65 is greater than 43 so we are not doing anything\nMinimum value is 43 campare with 56 and 56 is greater than 43 so we are not doing anything\nMinimum value is 43 campare with 76 and 76 is greater than 43 so we are not doing anything\nwe have check all string and finally we got correct mimimun value is 43 which we are going to swap with 43\nAfter swapping we got list like: [0, 2, 3, 6, 23, 43, 65, 56, 76]\n=========================================================================================================================================\nStep 6\n[0, 2, 3, 6, 23, 43, 65, 56, 76]\nConsider index 6 value is minimum that is: 65 and compare this with remaining all values in list that is [65, 56, 76]\nMinimum value is 65 campare with 56 and 56 is less than 65 so we are now considering minimum value is 56\nMinimum value is 56 campare with 56 and 56 is greater than 56 so we are not doing anything\nMinimum value is 56 campare with 76 and 76 is greater than 56 so we are not doing anything\nwe have check all string and finally we got correct mimimun value is 56 which we are going to swap with 65\nAfter swapping we got list like: [0, 2, 3, 6, 23, 43, 56, 65, 76]\n=========================================================================================================================================\nStep 7\n[0, 2, 3, 6, 23, 43, 56, 65, 76]\nConsider index 7 value is minimum that is: 65 and compare this with remaining all values in list that is [65, 76]\nMinimum value is 65 campare with 76 and 76 is greater than 65 so we are not doing anything\nwe have check all string and finally we got correct mimimun value is 65 which we are going to swap with 65\nAfter swapping we got list like: [0, 2, 3, 6, 23, 43, 56, 65, 76]\n=========================================================================================================================================\nStep 8\n[0, 2, 3, 6, 23, 43, 56, 65, 76]\nConsider index 8 value is minimum that is: 76 and compare this with remaining all values in list that is [76]\nwe have check all string and finally we got correct mimimun value is 76 which we are going to swap with 76\nAfter swapping we got list like: [0, 2, 3, 6, 23, 43, 56, 65, 76]\n=========================================================================================================================================\nFinal sorted list is: \n[0, 2, 3, 6, 23, 43, 56, 65, 76]\n"
     ]
    }
   ],
   "source": [
    "lst = [3,65,43,2,6,0,23,56,76]\n",
    "\n",
    "for i in range(len(lst)):\n",
    "  print(f'Step {i}')\n",
    "  print(lst)\n",
    "  min_val = lst[i]\n",
    "  print(f'Consider index {i} value is minimum that is: {min_val} and compare this with remaining all values in list that is {lst[i:]}')\n",
    "  for j in range(i+1, len(lst)):\n",
    "    if min_val > lst[j]:\n",
    "      print(f'Minimum value is {min_val} campare with {lst[j]} and {lst[j]} is less than {min_val} so we are now considering minimum value is {lst[j]}')\n",
    "      min_val = lst[j]\n",
    "    print(f'Minimum value is {min_val} campare with {lst[j]} and {lst[j]} is greater than {min_val} so we are not doing anything')\n",
    "  min_idx = lst.index(min_val, i)\n",
    "  print(f'we have check all string and finally we got correct mimimun value is {min_val} which we are going to swap with {lst[i]}')\n",
    "  # lst[i], lst[min_idx] = lst[min_idx], lst[i]\n",
    "  temp = lst[i]\n",
    "  lst[i] = lst[min_idx]\n",
    "  lst[min_idx] = temp\n",
    "  print(f'After swapping we got list like: {lst}')\n",
    "  print('=========================================================================================================================================')\n",
    "print(f'Final sorted list is: ')\n",
    "print(lst)"
   ]
  },
  {
   "cell_type": "code",
   "execution_count": 0,
   "metadata": {
    "application/vnd.databricks.v1+cell": {
     "cellMetadata": {
      "byteLimit": 2048000,
      "rowLimit": 10000
     },
     "inputWidgets": {},
     "nuid": "5376a7fb-9607-4771-90d1-636f7a13a2d8",
     "showTitle": false,
     "title": ""
    }
   },
   "outputs": [
    {
     "output_type": "execute_result",
     "data": {
      "text/plain": [
       "[23, 43, 56, 65, 76]"
      ]
     },
     "execution_count": 6,
     "metadata": {},
     "output_type": "execute_result"
    }
   ],
   "source": [
    "lst = [0, 2, 3, 6, 23, 43, 56, 65, 76]\n",
    "lst[4:]"
   ]
  },
  {
   "cell_type": "code",
   "execution_count": 0,
   "metadata": {
    "application/vnd.databricks.v1+cell": {
     "cellMetadata": {},
     "inputWidgets": {},
     "nuid": "71de1a8f-1bf7-42b3-9bbc-a02e61f611a0",
     "showTitle": false,
     "title": ""
    }
   },
   "outputs": [],
   "source": []
  }
 ],
 "metadata": {
  "application/vnd.databricks.v1+notebook": {
   "dashboards": [],
   "language": "python",
   "notebookMetadata": {
    "pythonIndentUnit": 2
   },
   "notebookName": "Selection Sort",
   "widgets": {}
  }
 },
 "nbformat": 4,
 "nbformat_minor": 0
}
