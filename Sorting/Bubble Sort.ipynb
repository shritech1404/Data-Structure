{
 "cells": [
  {
   "cell_type": "code",
   "execution_count": 0,
   "metadata": {
    "application/vnd.databricks.v1+cell": {
     "cellMetadata": {
      "byteLimit": 2048000,
      "rowLimit": 10000
     },
     "inputWidgets": {},
     "nuid": "ba172cdb-ce94-4c8f-b25e-f3ef72a2f57f",
     "showTitle": true,
     "title": "Ascending "
    }
   },
   "outputs": [
    {
     "output_type": "stream",
     "name": "stdout",
     "output_type": "stream",
     "text": [
      "Iteration- 1\nFirst element - 10\nNext element - 15\nFirst element > Next element ==> 10 > 15 ==> No ==> Do Nothing\n[10, 15, 4, 23, 0]\n*****************************\nFirst element - 15\nNext element - 4\nFirst element > Next element ==> 15 > 4 ==> Yes ==> Swap\n[10, 4, 15, 23, 0]\n*****************************\nFirst element - 15\nNext element - 23\nFirst element > Next element ==> 15 > 23 ==> No ==> Do Nothing\n[10, 4, 15, 23, 0]\n*****************************\nFirst element - 23\nNext element - 0\nFirst element > Next element ==> 23 > 0 ==> Yes ==> Swap\n[10, 4, 15, 0, 23]\n*****************************\n=========================================================================================\nIteration- 2\nFirst element - 10\nNext element - 4\nFirst element > Next element ==> 10 > 4 ==> Yes ==> Swap\n[4, 10, 15, 0, 23]\n*****************************\nFirst element - 10\nNext element - 15\nFirst element > Next element ==> 10 > 15 ==> No ==> Do Nothing\n[4, 10, 15, 0, 23]\n*****************************\nFirst element - 15\nNext element - 0\nFirst element > Next element ==> 15 > 0 ==> Yes ==> Swap\n[4, 10, 0, 15, 23]\n*****************************\nFirst element - 15\nNext element - 23\nFirst element > Next element ==> 15 > 23 ==> No ==> Do Nothing\n[4, 10, 0, 15, 23]\n*****************************\n=========================================================================================\nIteration- 3\nFirst element - 4\nNext element - 10\nFirst element > Next element ==> 4 > 10 ==> No ==> Do Nothing\n[4, 10, 0, 15, 23]\n*****************************\nFirst element - 10\nNext element - 0\nFirst element > Next element ==> 10 > 0 ==> Yes ==> Swap\n[4, 0, 10, 15, 23]\n*****************************\nFirst element - 10\nNext element - 15\nFirst element > Next element ==> 10 > 15 ==> No ==> Do Nothing\n[4, 0, 10, 15, 23]\n*****************************\nFirst element - 15\nNext element - 23\nFirst element > Next element ==> 15 > 23 ==> No ==> Do Nothing\n[4, 0, 10, 15, 23]\n*****************************\n=========================================================================================\nIteration- 4\nFirst element - 4\nNext element - 0\nFirst element > Next element ==> 4 > 0 ==> Yes ==> Swap\n[0, 4, 10, 15, 23]\n*****************************\nFirst element - 4\nNext element - 10\nFirst element > Next element ==> 4 > 10 ==> No ==> Do Nothing\n[0, 4, 10, 15, 23]\n*****************************\nFirst element - 10\nNext element - 15\nFirst element > Next element ==> 10 > 15 ==> No ==> Do Nothing\n[0, 4, 10, 15, 23]\n*****************************\nFirst element - 15\nNext element - 23\nFirst element > Next element ==> 15 > 23 ==> No ==> Do Nothing\n[0, 4, 10, 15, 23]\n*****************************\n=========================================================================================\nFinal sorted list is\n[0, 4, 10, 15, 23]\n"
     ]
    }
   ],
   "source": [
    "lst = [10, 15, 4, 23, 0]\n",
    "for j in range(len(lst)-1):\n",
    "  print(f'Iteration- {j+1}')\n",
    "  for i in range(len(lst)-1):\n",
    "    print(f'First element - {lst[i]}')\n",
    "    print(f'Next element - {lst[i+1]}')\n",
    "    if lst[i]>lst[i+1]:\n",
    "      print(f'First element > Next element ==> {lst[i]} > {lst[i+1]} ==> Yes ==> Swap')\n",
    "      lst[i], lst[i+1]=lst[i+1], lst[i]\n",
    "    else:\n",
    "      print(f'First element > Next element ==> {lst[i]} > {lst[i+1]} ==> No ==> Do Nothing')\n",
    "    print(lst)\n",
    "    print('*****************************')\n",
    "  print('=========================================================================================')\n",
    "print('Final sorted list is')\n",
    "print(lst)"
   ]
  },
  {
   "cell_type": "code",
   "execution_count": 0,
   "metadata": {
    "application/vnd.databricks.v1+cell": {
     "cellMetadata": {
      "byteLimit": 2048000,
      "rowLimit": 10000
     },
     "inputWidgets": {},
     "nuid": "ceba5d16-3250-4190-9cd0-9a9f20710d22",
     "showTitle": true,
     "title": "Descending "
    }
   },
   "outputs": [
    {
     "output_type": "stream",
     "name": "stdout",
     "output_type": "stream",
     "text": [
      "Iteration- 1\nFirst element - 10\nNext element - 15\nFirst element < Next element ==> 10 < 15 ==> Yes ==> Swap\n[15, 10, 4, 23, 0]\n*****************************\nFirst element - 10\nNext element - 4\nFirst element < Next element ==> 10 < 4 ==> No ==> Do Nothing\n[15, 10, 4, 23, 0]\n*****************************\nFirst element - 4\nNext element - 23\nFirst element < Next element ==> 4 < 23 ==> Yes ==> Swap\n[15, 10, 23, 4, 0]\n*****************************\nFirst element - 4\nNext element - 0\nFirst element < Next element ==> 4 < 0 ==> No ==> Do Nothing\n[15, 10, 23, 4, 0]\n*****************************\n=========================================================================================\nIteration- 2\nFirst element - 15\nNext element - 10\nFirst element < Next element ==> 15 < 10 ==> No ==> Do Nothing\n[15, 10, 23, 4, 0]\n*****************************\nFirst element - 10\nNext element - 23\nFirst element < Next element ==> 10 < 23 ==> Yes ==> Swap\n[15, 23, 10, 4, 0]\n*****************************\nFirst element - 10\nNext element - 4\nFirst element < Next element ==> 10 < 4 ==> No ==> Do Nothing\n[15, 23, 10, 4, 0]\n*****************************\n=========================================================================================\nIteration- 3\nFirst element - 15\nNext element - 23\nFirst element < Next element ==> 15 < 23 ==> Yes ==> Swap\n[23, 15, 10, 4, 0]\n*****************************\nFirst element - 15\nNext element - 10\nFirst element < Next element ==> 15 < 10 ==> No ==> Do Nothing\n[23, 15, 10, 4, 0]\n*****************************\n=========================================================================================\nIteration- 4\nFirst element - 23\nNext element - 15\nFirst element < Next element ==> 23 < 15 ==> No ==> Do Nothing\n[23, 15, 10, 4, 0]\n*****************************\n=========================================================================================\nFinal sorted list is\n[23, 15, 10, 4, 0]\n"
     ]
    }
   ],
   "source": [
    "lst = [10, 15, 4, 23, 0]\n",
    "for j in range(len(lst)-1):\n",
    "  print(f'Iteration- {j+1}')\n",
    "  for i in range(len(lst)-1-j):\n",
    "    print(f'First element - {lst[i]}')\n",
    "    print(f'Next element - {lst[i+1]}')\n",
    "    if lst[i] < lst[i+1]:\n",
    "      print(f'First element < Next element ==> {lst[i]} < {lst[i+1]} ==> Yes ==> Swap')\n",
    "      lst[i], lst[i+1]=lst[i+1], lst[i]\n",
    "    else:\n",
    "      print(f'First element < Next element ==> {lst[i]} < {lst[i+1]} ==> No ==> Do Nothing')\n",
    "    print(lst)\n",
    "    print('*****************************')\n",
    "  print('=========================================================================================')\n",
    "print('Final sorted list is')\n",
    "print(lst)"
   ]
  },
  {
   "cell_type": "code",
   "execution_count": 0,
   "metadata": {
    "application/vnd.databricks.v1+cell": {
     "cellMetadata": {},
     "inputWidgets": {},
     "nuid": "43644809-46e6-414c-8f3c-f6c82faf6b29",
     "showTitle": false,
     "title": ""
    }
   },
   "outputs": [],
   "source": []
  }
 ],
 "metadata": {
  "application/vnd.databricks.v1+notebook": {
   "dashboards": [],
   "language": "python",
   "notebookMetadata": {
    "pythonIndentUnit": 2
   },
   "notebookName": "Bubble Sort",
   "widgets": {}
  }
 },
 "nbformat": 4,
 "nbformat_minor": 0
}
