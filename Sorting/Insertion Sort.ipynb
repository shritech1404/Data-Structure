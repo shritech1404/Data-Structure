{
 "cells": [
  {
   "cell_type": "code",
   "execution_count": 0,
   "metadata": {
    "application/vnd.databricks.v1+cell": {
     "cellMetadata": {
      "byteLimit": 2048000,
      "rowLimit": 10000
     },
     "inputWidgets": {},
     "nuid": "f74bd808-d923-4870-816f-2af808f6e0e7",
     "showTitle": false,
     "title": ""
    }
   },
   "outputs": [
    {
     "output_type": "stream",
     "name": "stdout",
     "output_type": "stream",
     "text": [
      "[0, 2, 3, 5, 6, 7, 23, 24, 45, 56, 65]\n"
     ]
    }
   ],
   "source": [
    "def insertionSort(lst):\n",
    "  for i in range(1, len(lst)):\n",
    "    current_element = lst[i]\n",
    "    pos = i\n",
    "    while current_element<lst[pos-1] and pos>0:\n",
    "      lst[pos] = lst[pos-1]\n",
    "      pos -= 1\n",
    "    lst[pos] = current_element\n",
    "\n",
    "lst = [3,5,2,6,7,23,56,45,24,65,0]\n",
    "insertionSort(lst)\n",
    "print(lst)"
   ]
  },
  {
   "cell_type": "code",
   "execution_count": 0,
   "metadata": {
    "application/vnd.databricks.v1+cell": {
     "cellMetadata": {},
     "inputWidgets": {},
     "nuid": "1fb9d838-38f2-4b0e-bf0e-db8800fe4d8a",
     "showTitle": false,
     "title": ""
    }
   },
   "outputs": [],
   "source": []
  }
 ],
 "metadata": {
  "application/vnd.databricks.v1+notebook": {
   "dashboards": [],
   "language": "python",
   "notebookMetadata": {
    "pythonIndentUnit": 2
   },
   "notebookName": "Insertion Sort",
   "widgets": {}
  }
 },
 "nbformat": 4,
 "nbformat_minor": 0
}
