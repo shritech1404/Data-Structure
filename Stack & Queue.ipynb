{
 "cells": [
  {
   "cell_type": "code",
   "execution_count": 0,
   "metadata": {
    "application/vnd.databricks.v1+cell": {
     "cellMetadata": {
      "byteLimit": 2048000,
      "rowLimit": 10000
     },
     "inputWidgets": {},
     "nuid": "918266ff-c1a3-4a15-ac3d-ea8a7f6cc0f1",
     "showTitle": true,
     "title": "Stack"
    }
   },
   "outputs": [
    {
     "output_type": "display_data",
     "data": {
      "text/plain": [
       "Enter the operation number which you want to perform (1.push, 2.pop, 3.exit): 1"
      ]
     },
     "metadata": {},
     "output_type": "display_data"
    },
    {
     "output_type": "display_data",
     "data": {
      "text/plain": [
       "Enter the element which you want to push:  23"
      ]
     },
     "metadata": {},
     "output_type": "display_data"
    },
    {
     "output_type": "stream",
     "name": "stdout",
     "output_type": "stream",
     "text": [
      "[23]\n"
     ]
    },
    {
     "output_type": "display_data",
     "data": {
      "text/plain": [
       "Enter the operation number which you want to perform (1.push, 2.pop, 3.exit): 1"
      ]
     },
     "metadata": {},
     "output_type": "display_data"
    },
    {
     "output_type": "display_data",
     "data": {
      "text/plain": [
       "Enter the element which you want to push:  56"
      ]
     },
     "metadata": {},
     "output_type": "display_data"
    },
    {
     "output_type": "stream",
     "name": "stdout",
     "output_type": "stream",
     "text": [
      "[23, 56]\n"
     ]
    },
    {
     "output_type": "display_data",
     "data": {
      "text/plain": [
       "Enter the operation number which you want to perform (1.push, 2.pop, 3.exit): 1"
      ]
     },
     "metadata": {},
     "output_type": "display_data"
    },
    {
     "output_type": "display_data",
     "data": {
      "text/plain": [
       "Enter the element which you want to push:  456"
      ]
     },
     "metadata": {},
     "output_type": "display_data"
    },
    {
     "output_type": "stream",
     "name": "stdout",
     "output_type": "stream",
     "text": [
      "[23, 56, 456]\n"
     ]
    },
    {
     "output_type": "display_data",
     "data": {
      "text/plain": [
       "Enter the operation number which you want to perform (1.push, 2.pop, 3.exit): 2"
      ]
     },
     "metadata": {},
     "output_type": "display_data"
    },
    {
     "output_type": "stream",
     "name": "stdout",
     "output_type": "stream",
     "text": [
      "456 is poped from stack\n[23, 56]\n"
     ]
    },
    {
     "output_type": "display_data",
     "data": {
      "text/plain": [
       "Enter the operation number which you want to perform (1.push, 2.pop, 3.exit): 1"
      ]
     },
     "metadata": {},
     "output_type": "display_data"
    },
    {
     "output_type": "display_data",
     "data": {
      "text/plain": [
       "Enter the element which you want to push:  54"
      ]
     },
     "metadata": {},
     "output_type": "display_data"
    },
    {
     "output_type": "stream",
     "name": "stdout",
     "output_type": "stream",
     "text": [
      "[23, 56, 54]\n"
     ]
    },
    {
     "output_type": "display_data",
     "data": {
      "text/plain": [
       "Enter the operation number which you want to perform (1.push, 2.pop, 3.exit): 1"
      ]
     },
     "metadata": {},
     "output_type": "display_data"
    },
    {
     "output_type": "display_data",
     "data": {
      "text/plain": [
       "Enter the element which you want to push:  66757"
      ]
     },
     "metadata": {},
     "output_type": "display_data"
    },
    {
     "output_type": "stream",
     "name": "stdout",
     "output_type": "stream",
     "text": [
      "[23, 56, 54, 66757]\n"
     ]
    },
    {
     "output_type": "display_data",
     "data": {
      "text/plain": [
       "Enter the operation number which you want to perform (1.push, 2.pop, 3.exit): 3"
      ]
     },
     "metadata": {},
     "output_type": "display_data"
    }
   ],
   "source": [
    "## Statck is based on LIFO (Last In First Out)\n",
    "## Push - add the element in stack\n",
    "## Pop - remove the element from stack\n",
    "stack = []\n",
    "def push_element():\n",
    "  x = int(input('Enter the element which you want to push: '))\n",
    "  stack.append(x)\n",
    "  print(stack)\n",
    "def pop_element():\n",
    "  if len(stack)==0:\n",
    "    print('Stack is empty')\n",
    "  else:\n",
    "    e = stack.pop()\n",
    "    print(f'{e} is poped from stack')\n",
    "    print(stack)\n",
    "\n",
    "while True:\n",
    "  x = int(input('Enter the operation number which you want to perform (1.push, 2.pop, 3.exit):'))\n",
    "  if x==1:\n",
    "    push_element()\n",
    "  elif x==2:\n",
    "    pop_element()\n",
    "  elif x==3:\n",
    "    break\n",
    "  else:\n",
    "    print('Enter valid operation number')"
   ]
  },
  {
   "cell_type": "code",
   "execution_count": 0,
   "metadata": {
    "application/vnd.databricks.v1+cell": {
     "cellMetadata": {
      "byteLimit": 2048000,
      "rowLimit": 10000
     },
     "inputWidgets": {},
     "nuid": "3d307a2e-5314-4588-9658-d3ba9e62ffb0",
     "showTitle": false,
     "title": ""
    }
   },
   "outputs": [
    {
     "output_type": "display_data",
     "data": {
      "text/plain": [
       "Enter the size of stack: 3"
      ]
     },
     "metadata": {},
     "output_type": "display_data"
    },
    {
     "output_type": "display_data",
     "data": {
      "text/plain": [
       "Enter the operation number which you want to perform (1.push, 2.pop, 3.exit): 1"
      ]
     },
     "metadata": {},
     "output_type": "display_data"
    },
    {
     "output_type": "display_data",
     "data": {
      "text/plain": [
       "Enter the element which you want to push:  23"
      ]
     },
     "metadata": {},
     "output_type": "display_data"
    },
    {
     "output_type": "stream",
     "name": "stdout",
     "output_type": "stream",
     "text": [
      "[23]\n"
     ]
    },
    {
     "output_type": "display_data",
     "data": {
      "text/plain": [
       "Enter the operation number which you want to perform (1.push, 2.pop, 3.exit): 1"
      ]
     },
     "metadata": {},
     "output_type": "display_data"
    },
    {
     "output_type": "display_data",
     "data": {
      "text/plain": [
       "Enter the element which you want to push:  34"
      ]
     },
     "metadata": {},
     "output_type": "display_data"
    },
    {
     "output_type": "stream",
     "name": "stdout",
     "output_type": "stream",
     "text": [
      "[23, 34]\n"
     ]
    },
    {
     "output_type": "display_data",
     "data": {
      "text/plain": [
       "Enter the operation number which you want to perform (1.push, 2.pop, 3.exit): 1"
      ]
     },
     "metadata": {},
     "output_type": "display_data"
    },
    {
     "output_type": "display_data",
     "data": {
      "text/plain": [
       "Enter the element which you want to push:  36"
      ]
     },
     "metadata": {},
     "output_type": "display_data"
    },
    {
     "output_type": "stream",
     "name": "stdout",
     "output_type": "stream",
     "text": [
      "[23, 34, 36]\n"
     ]
    },
    {
     "output_type": "display_data",
     "data": {
      "text/plain": [
       "Enter the operation number which you want to perform (1.push, 2.pop, 3.exit): 1"
      ]
     },
     "metadata": {},
     "output_type": "display_data"
    },
    {
     "output_type": "stream",
     "name": "stdout",
     "output_type": "stream",
     "text": [
      "Stack is full\n"
     ]
    },
    {
     "output_type": "display_data",
     "data": {
      "text/plain": [
       "Enter the operation number which you want to perform (1.push, 2.pop, 3.exit): 4"
      ]
     },
     "metadata": {},
     "output_type": "display_data"
    },
    {
     "output_type": "stream",
     "name": "stdout",
     "output_type": "stream",
     "text": [
      "Enter valid operation number\n"
     ]
    },
    {
     "output_type": "display_data",
     "data": {
      "text/plain": [
       "Enter the operation number which you want to perform (1.push, 2.pop, 3.exit): 2"
      ]
     },
     "metadata": {},
     "output_type": "display_data"
    },
    {
     "output_type": "stream",
     "name": "stdout",
     "output_type": "stream",
     "text": [
      "36 is poped from stack\n[23, 34]\n"
     ]
    },
    {
     "output_type": "display_data",
     "data": {
      "text/plain": [
       "Enter the operation number which you want to perform (1.push, 2.pop, 3.exit): 3"
      ]
     },
     "metadata": {},
     "output_type": "display_data"
    }
   ],
   "source": [
    "stack = []\n",
    "def push_element():\n",
    "  if len(stack)==n:\n",
    "    print('Stack is full')\n",
    "  else:\n",
    "    x = int(input('Enter the element which you want to push: '))\n",
    "    stack.append(x)\n",
    "    print(stack)\n",
    "def pop_element():\n",
    "  if len(stack)==0:\n",
    "    print('Stack is empty')\n",
    "  else:\n",
    "    e = stack.pop()\n",
    "    print(f'{e} is poped from stack')\n",
    "    print(stack)\n",
    "\n",
    "n = int(input('Enter the size of stack:'))\n",
    "while True:\n",
    "  x = int(input('Enter the operation number which you want to perform (1.push, 2.pop, 3.exit):'))\n",
    "  if x==1:\n",
    "    push_element()\n",
    "  elif x==2:\n",
    "    pop_element()\n",
    "  elif x==3:\n",
    "    break\n",
    "  else:\n",
    "    print('Enter valid operation number')"
   ]
  },
  {
   "cell_type": "code",
   "execution_count": 0,
   "metadata": {
    "application/vnd.databricks.v1+cell": {
     "cellMetadata": {
      "byteLimit": 2048000,
      "rowLimit": 10000
     },
     "inputWidgets": {},
     "nuid": "19a1693d-6538-4ffd-a3ab-c8d833c1a8ca",
     "showTitle": true,
     "title": "Queue"
    }
   },
   "outputs": [
    {
     "output_type": "display_data",
     "data": {
      "text/plain": [
       "Enter the size of queue:  3"
      ]
     },
     "metadata": {},
     "output_type": "display_data"
    },
    {
     "output_type": "display_data",
     "data": {
      "text/plain": [
       "Enter the operation number which you want to perform (1.enqueue, 2.dequeue, 3.show, 4.exit): 1"
      ]
     },
     "metadata": {},
     "output_type": "display_data"
    },
    {
     "output_type": "display_data",
     "data": {
      "text/plain": [
       "Enter the element which you want to enqueue:  23"
      ]
     },
     "metadata": {},
     "output_type": "display_data"
    },
    {
     "output_type": "display_data",
     "data": {
      "text/plain": [
       "Enter the operation number which you want to perform (1.enqueue, 2.dequeue, 3.show, 4.exit): 1"
      ]
     },
     "metadata": {},
     "output_type": "display_data"
    },
    {
     "output_type": "display_data",
     "data": {
      "text/plain": [
       "Enter the element which you want to enqueue:  45"
      ]
     },
     "metadata": {},
     "output_type": "display_data"
    },
    {
     "output_type": "display_data",
     "data": {
      "text/plain": [
       "Enter the operation number which you want to perform (1.enqueue, 2.dequeue, 3.show, 4.exit): 1"
      ]
     },
     "metadata": {},
     "output_type": "display_data"
    },
    {
     "output_type": "display_data",
     "data": {
      "text/plain": [
       "Enter the element which you want to enqueue:  6"
      ]
     },
     "metadata": {},
     "output_type": "display_data"
    },
    {
     "output_type": "display_data",
     "data": {
      "text/plain": [
       "Enter the operation number which you want to perform (1.enqueue, 2.dequeue, 3.show, 4.exit): 3"
      ]
     },
     "metadata": {},
     "output_type": "display_data"
    },
    {
     "output_type": "stream",
     "name": "stdout",
     "output_type": "stream",
     "text": [
      "[23, 45, 6]\n"
     ]
    },
    {
     "output_type": "display_data",
     "data": {
      "text/plain": [
       "Enter the operation number which you want to perform (1.enqueue, 2.dequeue, 3.show, 4.exit): 2"
      ]
     },
     "metadata": {},
     "output_type": "display_data"
    },
    {
     "output_type": "stream",
     "name": "stdout",
     "output_type": "stream",
     "text": [
      "23 is dequeue from queue\n"
     ]
    },
    {
     "output_type": "display_data",
     "data": {
      "text/plain": [
       "Enter the operation number which you want to perform (1.enqueue, 2.dequeue, 3.show, 4.exit): 3"
      ]
     },
     "metadata": {},
     "output_type": "display_data"
    },
    {
     "output_type": "stream",
     "name": "stdout",
     "output_type": "stream",
     "text": [
      "[45, 6]\n"
     ]
    },
    {
     "output_type": "display_data",
     "data": {
      "text/plain": [
       "Enter the operation number which you want to perform (1.enqueue, 2.dequeue, 3.show, 4.exit): 4"
      ]
     },
     "metadata": {},
     "output_type": "display_data"
    }
   ],
   "source": [
    "## Queue is based on FIFO (First In First Out)\n",
    "## Enqueue - add the element in queue\n",
    "## Dequeue - remove the element from queue\n",
    "\n",
    "## end front\n",
    "queue = []\n",
    "def enqueue():\n",
    "  if len(queue)==n:\n",
    "    print('Queue is full')\n",
    "  else:\n",
    "    x = int(input('Enter the element which you want to enqueue: '))\n",
    "    queue.append(x)\n",
    "def dequeue():\n",
    "  if len(queue)==0:\n",
    "    print('queue is empty')\n",
    "  else:\n",
    "    e = queue.pop(0)\n",
    "    print(f'{e} is dequeue from queue')\n",
    "def display():\n",
    "  print(queue)\n",
    "\n",
    "n = int(input('Enter the size of queue: '))\n",
    "while True:\n",
    "  x = int(input('Enter the operation number which you want to perform (1.enqueue, 2.dequeue, 3.show, 4.exit):'))\n",
    "  if x==1:\n",
    "    enqueue()\n",
    "  elif x==2:\n",
    "    dequeue()\n",
    "  elif x==3:\n",
    "    display()\n",
    "  elif x==4:\n",
    "    break\n",
    "  else:\n",
    "    print('Enter valid operation number')"
   ]
  },
  {
   "cell_type": "code",
   "execution_count": 0,
   "metadata": {
    "application/vnd.databricks.v1+cell": {
     "cellMetadata": {
      "byteLimit": 2048000,
      "rowLimit": 10000
     },
     "inputWidgets": {},
     "nuid": "88a8c61e-68f4-437d-a055-9a2076b2e4c1",
     "showTitle": false,
     "title": ""
    }
   },
   "outputs": [
    {
     "output_type": "display_data",
     "data": {
      "text/plain": [
       "Enter the size of queue:  3"
      ]
     },
     "metadata": {},
     "output_type": "display_data"
    },
    {
     "output_type": "display_data",
     "data": {
      "text/plain": [
       "Enter the operation number which you want to perform (1.enqueue, 2.dequeue, 3.show, 4.exit): 1"
      ]
     },
     "metadata": {},
     "output_type": "display_data"
    },
    {
     "output_type": "display_data",
     "data": {
      "text/plain": [
       "Enter the element which you want to enqueue:  23"
      ]
     },
     "metadata": {},
     "output_type": "display_data"
    },
    {
     "output_type": "display_data",
     "data": {
      "text/plain": [
       "Enter the operation number which you want to perform (1.enqueue, 2.dequeue, 3.show, 4.exit): 1"
      ]
     },
     "metadata": {},
     "output_type": "display_data"
    },
    {
     "output_type": "display_data",
     "data": {
      "text/plain": [
       "Enter the element which you want to enqueue:  42"
      ]
     },
     "metadata": {},
     "output_type": "display_data"
    },
    {
     "output_type": "display_data",
     "data": {
      "text/plain": [
       "Enter the operation number which you want to perform (1.enqueue, 2.dequeue, 3.show, 4.exit): 1"
      ]
     },
     "metadata": {},
     "output_type": "display_data"
    },
    {
     "output_type": "display_data",
     "data": {
      "text/plain": [
       "Enter the element which you want to enqueue:  63"
      ]
     },
     "metadata": {},
     "output_type": "display_data"
    },
    {
     "output_type": "display_data",
     "data": {
      "text/plain": [
       "Enter the operation number which you want to perform (1.enqueue, 2.dequeue, 3.show, 4.exit): 3"
      ]
     },
     "metadata": {},
     "output_type": "display_data"
    },
    {
     "output_type": "stream",
     "name": "stdout",
     "output_type": "stream",
     "text": [
      "[63, 42, 23]\n"
     ]
    },
    {
     "output_type": "display_data",
     "data": {
      "text/plain": [
       "Enter the operation number which you want to perform (1.enqueue, 2.dequeue, 3.show, 4.exit): 2"
      ]
     },
     "metadata": {},
     "output_type": "display_data"
    },
    {
     "output_type": "stream",
     "name": "stdout",
     "output_type": "stream",
     "text": [
      "23 is dequeue from queue\n"
     ]
    },
    {
     "output_type": "display_data",
     "data": {
      "text/plain": [
       "Enter the operation number which you want to perform (1.enqueue, 2.dequeue, 3.show, 4.exit): 3"
      ]
     },
     "metadata": {},
     "output_type": "display_data"
    },
    {
     "output_type": "stream",
     "name": "stdout",
     "output_type": "stream",
     "text": [
      "[63, 42]\n"
     ]
    },
    {
     "output_type": "display_data",
     "data": {
      "text/plain": [
       "Enter the operation number which you want to perform (1.enqueue, 2.dequeue, 3.show, 4.exit): 4"
      ]
     },
     "metadata": {},
     "output_type": "display_data"
    }
   ],
   "source": [
    "## front end\n",
    "queue = []\n",
    "def enqueue():\n",
    "  if len(queue)==n:\n",
    "    print('Queue is full')\n",
    "  else:\n",
    "    x = int(input('Enter the element which you want to enqueue: '))\n",
    "    queue.insert(0, x)\n",
    "def dequeue():\n",
    "  if len(queue)==0:\n",
    "    print('queue is empty')\n",
    "  else:\n",
    "    e = queue.pop()\n",
    "    print(f'{e} is dequeue from queue')\n",
    "def display():\n",
    "  print(queue)\n",
    "\n",
    "n = int(input('Enter the size of queue: '))\n",
    "while True:\n",
    "  x = int(input('Enter the operation number which you want to perform (1.enqueue, 2.dequeue, 3.show, 4.exit):'))\n",
    "  if x==1:\n",
    "    enqueue()\n",
    "  elif x==2:\n",
    "    dequeue()\n",
    "  elif x==3:\n",
    "    display()\n",
    "  elif x==4:\n",
    "    break\n",
    "  else:\n",
    "    print('Enter valid operation number')"
   ]
  },
  {
   "cell_type": "code",
   "execution_count": 0,
   "metadata": {
    "application/vnd.databricks.v1+cell": {
     "cellMetadata": {},
     "inputWidgets": {},
     "nuid": "a1e58e1b-61ba-4bf7-85d0-a43a255b36a9",
     "showTitle": false,
     "title": ""
    }
   },
   "outputs": [],
   "source": []
  }
 ],
 "metadata": {
  "application/vnd.databricks.v1+notebook": {
   "dashboards": [],
   "language": "python",
   "notebookMetadata": {
    "pythonIndentUnit": 2
   },
   "notebookName": "Stack & Queue",
   "widgets": {}
  }
 },
 "nbformat": 4,
 "nbformat_minor": 0
}
